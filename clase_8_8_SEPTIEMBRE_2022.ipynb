{
  "nbformat": 4,
  "nbformat_minor": 0,
  "metadata": {
    "colab": {
      "provenance": [],
      "collapsed_sections": []
    },
    "kernelspec": {
      "name": "python3",
      "display_name": "Python 3"
    },
    "language_info": {
      "name": "python"
    }
  },
  "cells": [
    {
      "cell_type": "markdown",
      "metadata": {
        "id": "FSiXWyZMPEKP"
      },
      "source": [
        "<center>\n",
        "\n",
        "#**COLEGIO SIGLO XXI - EL SOCORRO**\n",
        "#**PRESENTADO A: ING PAOLA ANDREA QUINTERO**\n",
        "#**PRESENTADO POR: XLSLKDSD**\n",
        "#**GRADO DÉCIMO**\n",
        "#**8 SEPTIEMBRE 2022** "
      ]
    },
    {
      "cell_type": "markdown",
      "source": [
        "#**¿Qué es Python?**\n",
        "# Es un le\n",
        "#Fecha de lanzamiento:\n",
        "#Creadores:\n",
        "\n",
        "#Recuperado de: "
      ],
      "metadata": {
        "id": "hPAfPGPi-vHh"
      }
    },
    {
      "cell_type": "code",
      "metadata": {
        "colab": {
          "base_uri": "https://localhost:8080/"
        },
        "id": "4ozGvhh0PZfr",
        "outputId": "dd16ea7c-7ae9-49fa-a058-81c28a8b0d20"
      },
      "source": [
        "print(\"Esto es una suma\")\n",
        "numero_uno = 2\n",
        "numero_dos = 4\n",
        "resultado = numero_uno + numero_dos\n",
        "print(resultado)"
      ],
      "execution_count": null,
      "outputs": [
        {
          "output_type": "stream",
          "name": "stdout",
          "text": [
            "Esto es una suma\n",
            "6\n"
          ]
        }
      ]
    },
    {
      "cell_type": "code",
      "metadata": {
        "colab": {
          "base_uri": "https://localhost:8080/"
        },
        "id": "nSCiFiQOPeS3",
        "outputId": "9a8f9339-850c-425b-e039-19504f08796f"
      },
      "source": [
        "print(\"Esto es una resta\")\n",
        "numero_uno = 7\n",
        "numero_dos = 4\n",
        "resultado = numero_uno - numero_dos\n",
        "print(resultado)"
      ],
      "execution_count": null,
      "outputs": [
        {
          "output_type": "stream",
          "name": "stdout",
          "text": [
            "Esto es una resta\n",
            "3\n"
          ]
        }
      ]
    },
    {
      "cell_type": "code",
      "metadata": {
        "colab": {
          "base_uri": "https://localhost:8080/"
        },
        "id": "UHOTT2CLPmxt",
        "outputId": "f2ca1d8b-a5d9-484a-9c97-0f60fa73d990"
      },
      "source": [
        "print(\"Esto es una multiplicacion\")\n",
        "numero_uno = 5\n",
        "numero_dos = 9\n",
        "resultado = numero_uno * numero_dos\n",
        "print(resultado)"
      ],
      "execution_count": null,
      "outputs": [
        {
          "output_type": "stream",
          "name": "stdout",
          "text": [
            "Esto es una multiplicacion\n",
            "45\n"
          ]
        }
      ]
    },
    {
      "cell_type": "code",
      "metadata": {
        "colab": {
          "base_uri": "https://localhost:8080/"
        },
        "id": "zLYQkvn4PvKE",
        "outputId": "f1ff5d4c-07b9-42ba-e6c5-e0c0b646f965"
      },
      "source": [
        "print(\"Esto es una division\")\n",
        "numero_uno = 198\n",
        "numero_dos = 48\n",
        "resultado = numero_uno / numero_dos\n",
        "print(resultado)"
      ],
      "execution_count": null,
      "outputs": [
        {
          "output_type": "stream",
          "name": "stdout",
          "text": [
            "Esto es una division\n",
            "4.125\n"
          ]
        }
      ]
    },
    {
      "cell_type": "markdown",
      "source": [
        "#Ejercicios de Tipos de Datos Simples"
      ],
      "metadata": {
        "id": "P85BdDZE1I0Y"
      }
    },
    {
      "cell_type": "markdown",
      "source": [
        "## Ejercicio 1\n",
        "\n",
        "Escribir un programa que pregunte el nombre del usuario en la consola y un número entero e imprima por pantalla en líneas distintas el nombre del usuario tantas veces como el número introducido."
      ],
      "metadata": {
        "id": "vB98Gb7F17ok"
      }
    },
    {
      "cell_type": "code",
      "source": [
        "nombre = input(\"¿Cómo te llamas? \")\n",
        "n = input(\"Introduce un número entero: \")\n",
        "print((nombre + \"\\n\") * int(n))"
      ],
      "metadata": {
        "colab": {
          "base_uri": "https://localhost:8080/"
        },
        "id": "wgFAtMmF2CDU",
        "outputId": "21079c4d-31dc-4bee-f08d-16f825db7437"
      },
      "execution_count": null,
      "outputs": [
        {
          "output_type": "stream",
          "name": "stdout",
          "text": [
            "¿Cómo te llamas? PAOLA\n",
            "Introduce un número entero: 4\n",
            "PAOLA\n",
            "PAOLA\n",
            "PAOLA\n",
            "PAOLA\n",
            "\n"
          ]
        }
      ]
    },
    {
      "cell_type": "markdown",
      "source": [
        "## Ejercicio 2\n",
        "\n",
        "Escribir un programa que pida al usuario su peso (en kg) y estatura (en metros), calcule el índice de masa corporal y lo almacene en una variable, e imprima por pantalla la frase `Tu índice de masa corporal es <imc>` donde `<imc>` es el índice de masa corporal calculado redondeado con dos decimales. "
      ],
      "metadata": {
        "id": "aKnPIJzt1DFB"
      }
    },
    {
      "cell_type": "code",
      "source": [
        "peso = input(\"¿Cuál es tu peso en kg? \")\n",
        "estatura = input(\"¿Cuál es tu estatura en metros?\")\n",
        "imc = round(float(peso)/float(estatura)**2,2)\n",
        "print(\"Tu índice de masa corporal es \" + str(imc))"
      ],
      "metadata": {
        "colab": {
          "base_uri": "https://localhost:8080/"
        },
        "id": "7QBQzGUE1az3",
        "outputId": "0771689a-d40f-4d45-ec2a-ff91ca545433"
      },
      "execution_count": null,
      "outputs": [
        {
          "output_type": "stream",
          "name": "stdout",
          "text": [
            "¿Cuál es tu peso en kg? 83\n",
            "¿Cuál es tu estatura en metros?1.63\n",
            "Tu índice de masa corporal es 31.24\n"
          ]
        }
      ]
    },
    {
      "cell_type": "markdown",
      "source": [
        "# **LIBRERÍAS EN PYTHON** "
      ],
      "metadata": {
        "id": "K1n_QIHjU4Wt"
      }
    },
    {
      "cell_type": "markdown",
      "source": [
        "Concepto"
      ],
      "metadata": {
        "id": "vHCM7EfwVB78"
      }
    },
    {
      "cell_type": "markdown",
      "source": [
        "#***Librería Panda*** "
      ],
      "metadata": {
        "id": "tHKKDzpNVI_c"
      }
    },
    {
      "cell_type": "markdown",
      "source": [
        "Concepto"
      ],
      "metadata": {
        "id": "-uCH2oPAVdMY"
      }
    },
    {
      "cell_type": "markdown",
      "source": [
        "# Ejercicio \n",
        "\n",
        "Escribir programa que genere y muestre por pantalla un DataFrame con los datos de la tabla siguiente:\n",
        "\n",
        "\n",
        "| Mes     | Ventas | Gastos |\n",
        "| ------- | -----: | -----: |\n",
        "| Enero   |  30500 |  22000 |\n",
        "| Febrero |  35600 |  23400 |\n",
        "| Marzo   |  28300 |  18100 |\n",
        "| Abril   |  33900 |  20700 |"
      ],
      "metadata": {
        "id": "z0GGvscnVyeR"
      }
    },
    {
      "cell_type": "code",
      "source": [
        "import pandas as pd\n",
        "\n",
        "datos = {'Mes':['Enero', 'Febrero', 'Marzo', 'Abril'], 'Ventas':[30500, 35600, 28300, 33900], 'Gastos':[22000, 23400, 18100, 20700]}\n",
        "contabilidad = pd.DataFrame(datos)\n",
        "print(contabilidad)"
      ],
      "metadata": {
        "colab": {
          "base_uri": "https://localhost:8080/"
        },
        "id": "WZgclg8dWM2Q",
        "outputId": "9c511dfa-2051-49e4-9d22-b1a508fc7404"
      },
      "execution_count": null,
      "outputs": [
        {
          "output_type": "stream",
          "name": "stdout",
          "text": [
            "       Mes  Ventas  Gastos\n",
            "0    Enero   30500   22000\n",
            "1  Febrero   35600   23400\n",
            "2    Marzo   28300   18100\n",
            "3    Abril   33900   20700\n"
          ]
        }
      ]
    },
    {
      "cell_type": "markdown",
      "source": [
        "# ***Librería  Matplotlib***"
      ],
      "metadata": {
        "id": "CrhHVLlLVgGl"
      }
    },
    {
      "cell_type": "markdown",
      "source": [
        "Concepto"
      ],
      "metadata": {
        "id": "auOumqU7VvJR"
      }
    },
    {
      "cell_type": "markdown",
      "source": [
        "# Ejercicio\n",
        "\n",
        "Gráfico torta"
      ],
      "metadata": {
        "id": "hKUhvO-yWgiH"
      }
    },
    {
      "cell_type": "code",
      "source": [
        "import matplotlib.pyplot as plt    #Colores los da la librería \n",
        "\n",
        "l = ('Python', 'C++', 'Ruby', 'Java')\n",
        "sizes = [200, 130, 600, 210]\n",
        "\n",
        "e = (0.1, 0, 0, 0)  # explode 1st slice\n",
        " \n",
        "plt.pie(sizes, explode=e, labels=l)\n",
        "\n",
        "plt.show()"
      ],
      "metadata": {
        "colab": {
          "base_uri": "https://localhost:8080/",
          "height": 248
        },
        "id": "N05wXY8wYr7o",
        "outputId": "bf571373-24f7-4954-f7ad-bc87df34a6d9"
      },
      "execution_count": null,
      "outputs": [
        {
          "output_type": "display_data",
          "data": {
            "text/plain": [
              "<Figure size 432x288 with 1 Axes>"
            ],
            "image/png": "[encoded data removed]"
          },
          "metadata": {}
        }
      ]
    },
    {
      "cell_type": "markdown",
      "source": [
        "<center>\n",
        "\n",
        "#**©Copyright - Tecnología e informática - Colegio Siglo XXI - El Socorro**"
      ],
      "metadata": {
        "id": "eDgxTUNnZoXa"
      }
    }
  ]
}